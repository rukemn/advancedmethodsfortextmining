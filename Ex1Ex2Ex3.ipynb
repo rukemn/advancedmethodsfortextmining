{
 "nbformat": 4,
 "nbformat_minor": 0,
 "metadata": {
  "colab": {
   "provenance": []
  },
  "kernelspec": {
   "name": "python3",
   "display_name": "Python 3"
  },
  "language_info": {
   "name": "python"
  }
 },
 "cells": [
  {
   "cell_type": "markdown",
   "source": [
    "# Task 1\n",
    "\n",
    "- What is Sentence tokenization?\n",
    "\n",
    "   Sentence tokenization is the process of splitting up a paragraph or large text (book or document) into individual sentences.\n",
    "   Some common approaches are:\n",
    "   - a) Rule-based: Using a set of pre-defined rules (like certain punctuation marks) to identify the ends of sentences.\n",
    "   - b) Machine-learning based: Training an ML model to predict the end of the sentence. This would require annotated data and training a sequence labeling model.\n",
    "\n",
    "\n",
    "- Word tokenization?\n",
    "  \n",
    "  It is the process of splitting a sentence into individual tokens or words. In english, different words are separated by a space therefore making it a straightforward task. However, depending on the language this can be a challenging task.\n",
    "  Like sentence tokenization this too can be done in a rule-based manner or using machine learning methods trained to identify language specific patterns.\n",
    "\n",
    "\n",
    "- Part-of-Speech (POS) Tagging?\n",
    "\n",
    "  It is the process of tagging each word in a sentence with it's grammatical type of part-of-speech (Noun, Pronoun, Conjunction, Adjective, Verb etc.). This can be identified based on the context or the role of the word in the sentence.\n",
    "  This again be done using rule-based or machine learning based classifiers. \n",
    "\n",
    "- Lemmatization?\n",
    "\n",
    " It is reducing a word to its root or base or canonical form (also known as lemma). This is done after removing various inflections or derivations that are added to the base word based on context for various reasons like expressing the tense of the word or plurality.\n",
    " The lemma is typically a valid word in the dictionary. For example 'reading' is reduced to 'read'.\n",
    " This is different from stemming where a word is reduced to it's base or stem form by removing prefixes and suffixes. \n",
    "\n",
    "- Stop word removal?\n",
    "\n",
    "  Stop word removal is the process of eliminating words that are considered redundant or uninformative or insignificant for analysing or processing a given text. Stop-word removal helps reduce dimensionality and speed up the task by removing highly frequent words that do not add much semantic or contextual information. This depends on the language and the downstream task. In english some of the stop words are 'a', 'an', 'the', 'is', 'of' etc. These words are highly frequent but not very useful for common NLP tasks like sentiment analysis or spam detection.\n"
   ],
   "metadata": {
    "id": "Wr9Kotirn70o"
   }
  },
  {
   "cell_type": "code",
   "source": [
    "import nltk\n",
    "from nltk.tokenize import sent_tokenize, word_tokenize\n",
    "from nltk.corpus import stopwords\n",
    "from nltk.stem import WordNetLemmatizer\n",
    "import string\n",
    "\n",
    "nltk.download('punkt')\n",
    "nltk.download('wordnet')\n",
    "nltk.download('stopwords')\n",
    "\n",
    "def process_paragraph(paragraph):\n",
    "    # Split the paragraph into sentences\n",
    "    sente_tokens = sent_tokenize(paragraph)\n",
    "    \n",
    "    # Initialize lemmatizer and stopwords\n",
    "    lemmatizer = WordNetLemmatizer()\n",
    "    stop_words = set(stopwords.words('english'))\n",
    "    \n",
    "    sentences = []\n",
    "    \n",
    "    for sentence in sente_tokens:\n",
    "        # sentence tokenization from paragraphs\n",
    "        words_tokenized = word_tokenize(sentence)\n",
    "        \n",
    "        #lemmatization, removal of stop words and \",\"\n",
    "        words_lemma_clean = [lemmatizer.lemmatize(word.lower()) for word in words_tokenized if word.lower() not in stop_words and word not in string.punctuation]\n",
    "        \n",
    "        # Add processed sentence to the list\n",
    "        sentences.append(words_lemma_clean)\n",
    "        \n",
    "    return sentences"
   ],
   "metadata": {
    "id": "Mxj15Q3u-H2a",
    "colab": {
     "base_uri": "https://localhost:8080/"
    },
    "outputId": "8dedf000-fb68-4a62-8223-8ca9f3726098"
   },
   "execution_count": 51,
   "outputs": [
    {
     "name": "stderr",
     "output_type": "stream",
     "text": [
      "[nltk_data] Downloading package punkt to\n",
      "[nltk_data]     C:\\Users\\ruben\\AppData\\Roaming\\nltk_data...\n",
      "[nltk_data]   Package punkt is already up-to-date!\n",
      "[nltk_data] Downloading package wordnet to\n",
      "[nltk_data]     C:\\Users\\ruben\\AppData\\Roaming\\nltk_data...\n",
      "[nltk_data]   Package wordnet is already up-to-date!\n",
      "[nltk_data] Downloading package stopwords to\n",
      "[nltk_data]     C:\\Users\\ruben\\AppData\\Roaming\\nltk_data...\n",
      "[nltk_data]   Package stopwords is already up-to-date!\n"
     ]
    }
   ]
  },
  {
   "cell_type": "code",
   "source": [
    "paragraph = \"This is an example paragraph. It contains multiple sentences. The function defined above performs various tasks. Tokenization splits the paragraph into sentences and words. Lemmatization reduces the words to its base form. Additionally stop words are also removed.\"\n",
    "processed_sentences = process_paragraph(paragraph)\n",
    "print(processed_sentences)"
   ],
   "metadata": {
    "colab": {
     "base_uri": "https://localhost:8080/"
    },
    "id": "Lev3pkFUAFqI",
    "outputId": "ea326223-2823-4276-8aab-45f7f2518fad"
   },
   "execution_count": 52,
   "outputs": [
    {
     "name": "stdout",
     "output_type": "stream",
     "text": [
      "[['example', 'paragraph'], ['contains', 'multiple', 'sentence'], ['function', 'defined', 'performs', 'various', 'task'], ['tokenization', 'split', 'paragraph', 'sentence', 'word'], ['lemmatization', 'reduces', 'word', 'base', 'form'], ['additionally', 'stop', 'word', 'also', 'removed']]\n"
     ]
    }
   ]
  },
  {
   "cell_type": "code",
   "source": [
    "paragraph = \"Build your own NLP preprocessing routine (a function named process_paragraph(paragraph)) that takes a paragraph as input, and splits the paragraph into sentences, applies word tokenization and lemmatization on all words. Furthermore, it should remove stop words from the input sentence. The function should return a list containing the processed sentences. You can use any open source package you like for this task, as long as each step is well documented.\"\n",
    "print(paragraph)\n",
    "processed_sentences = process_paragraph(paragraph)\n",
    "print(processed_sentences)"
   ],
   "metadata": {
    "colab": {
     "base_uri": "https://localhost:8080/"
    },
    "id": "MICzqIBfAnSz",
    "outputId": "9a76ab59-4312-447c-e981-e8880a5a08b8"
   },
   "execution_count": 53,
   "outputs": [
    {
     "name": "stdout",
     "output_type": "stream",
     "text": [
      "Build your own NLP preprocessing routine (a function named process_paragraph(paragraph)) that takes a paragraph as input, and splits the paragraph into sentences, applies word tokenization and lemmatization on all words. Furthermore, it should remove stop words from the input sentence. The function should return a list containing the processed sentences. You can use any open source package you like for this task, as long as each step is well documented.\n",
      "[['build', 'nlp', 'preprocessing', 'routine', 'function', 'named', 'process_paragraph', 'paragraph', 'take', 'paragraph', 'input', 'split', 'paragraph', 'sentence', 'applies', 'word', 'tokenization', 'lemmatization', 'word'], ['furthermore', 'remove', 'stop', 'word', 'input', 'sentence'], ['function', 'return', 'list', 'containing', 'processed', 'sentence'], ['use', 'open', 'source', 'package', 'like', 'task', 'long', 'step', 'well', 'documented']]\n"
     ]
    }
   ]
  },
  {
   "cell_type": "markdown",
   "source": [
    "# Task 2"
   ],
   "metadata": {
    "id": "xhKX253pTIlq"
   }
  },
  {
   "cell_type": "markdown",
   "source": [
    "## 2.1 Odds ratio \n",
    "\n",
    "\n",
    "- Find the odds ratio for an email being spam for neither vs contacted.\n",
    "\n",
    "- The odds for an email being spam for 'Neither' is 926/1553\n",
    "- The odds for an email being spam for 'Contacted' is 59/1418\n",
    "\n",
    "- The odds ratio is  (926/1553)/(59/1418) = (926 * 1418)/(1553 * 59) = "
   ],
   "metadata": {
    "id": "nK4v_eUYGDMr"
   }
  },
  {
   "cell_type": "code",
   "source": [
    "(1418 * 926)/(59 * 1553)"
   ],
   "metadata": {
    "colab": {
     "base_uri": "https://localhost:8080/"
    },
    "id": "tQ3YXSAGTJ5P",
    "outputId": "38f6a4dc-8c22-4139-a413-0eb4d3d8fa7f"
   },
   "execution_count": 54,
   "outputs": [
    {
     "data": {
      "text/plain": "14.330579414364761"
     },
     "execution_count": 54,
     "metadata": {},
     "output_type": "execute_result"
    }
   ]
  },
  {
   "cell_type": "markdown",
   "source": [
    "The odds for an email being spam is 14.33 times greater for when the email is from someone from the 'Neither' category as compared to when the email is from someone from the 'Contacted' category."
   ],
   "metadata": {
    "id": "QeXzPr4RIYM2"
   }
  },
  {
   "cell_type": "code",
   "source": [],
   "metadata": {
    "id": "RmStNskyH70Y"
   },
   "execution_count": 54,
   "outputs": []
  },
  {
   "cell_type": "markdown",
   "source": [
    "## 2.2 Model formulation\n",
    "\n",
    "- log(odds of spam) = β0 + β1 * 'Contacted' + β2 * 'Colleague' + β3 * 'Neither'\n",
    "\n",
    "\n",
    "\n",
    "- P(spam) = 1 / (1 + exp(-(β0 + β1 * 'Contacted' + β2 * 'Colleague' + β3 * 'Neither')))"
   ],
   "metadata": {
    "id": "TMRw5IiaJm0G"
   }
  },
  {
   "cell_type": "markdown",
   "source": [
    "## 2.3 Maximum Likelihood"
   ],
   "metadata": {
    "id": "YYWwjgmZKBMP"
   }
  },
  {
   "cell_type": "code",
   "source": [],
   "metadata": {
    "id": "MqU-iWJQJrGf"
   },
   "execution_count": 54,
   "outputs": []
  },
  {
   "cell_type": "markdown",
   "source": [
    "## 2.4 LR using sklearn"
   ],
   "metadata": {
    "id": "R3Ore0ezVbrS"
   }
  },
  {
   "cell_type": "code",
   "source": [
    "import pandas as pd\n",
    "import numpy as np"
   ],
   "metadata": {
    "id": "3mvsMnhHS0Xj"
   },
   "execution_count": 55,
   "outputs": []
  },
  {
   "cell_type": "code",
   "source": [
    "spam_label = pd.Series([1]*15 + [0]*1029)\n",
    "colleague = pd.Series(['colleague'] * 1044)\n",
    "colleague_df = pd.DataFrame({'Type': colleague, 'Spam_Label': spam_label}) \n",
    "colleague_df.value_counts()"
   ],
   "metadata": {
    "colab": {
     "base_uri": "https://localhost:8080/"
    },
    "id": "vt04rrplHciD",
    "outputId": "291cb645-33a7-4648-e1e0-cdc03a4c6bb9"
   },
   "execution_count": 56,
   "outputs": [
    {
     "data": {
      "text/plain": "Type       Spam_Label\ncolleague  0             1029\n           1               15\ndtype: int64"
     },
     "execution_count": 56,
     "metadata": {},
     "output_type": "execute_result"
    }
   ]
  },
  {
   "cell_type": "code",
   "source": [
    "spam_label = pd.Series([1]*59 + [0]*1418)\n",
    "contacted = pd.Series(['contacted'] * 1477)\n",
    "contacted_df = pd.DataFrame({'Type': contacted, 'Spam_Label': spam_label}) \n",
    "contacted_df.value_counts()"
   ],
   "metadata": {
    "colab": {
     "base_uri": "https://localhost:8080/"
    },
    "id": "Ao-R1vJOHcl2",
    "outputId": "2c286fa2-abe8-47d1-addb-c1980d7c7992"
   },
   "execution_count": 57,
   "outputs": [
    {
     "data": {
      "text/plain": "Type       Spam_Label\ncontacted  0             1418\n           1               59\ndtype: int64"
     },
     "execution_count": 57,
     "metadata": {},
     "output_type": "execute_result"
    }
   ]
  },
  {
   "cell_type": "code",
   "source": [
    "spam_label = pd.Series([1]*926 + [0]*1553)\n",
    "neither = pd.Series(['neither'] * 2479)\n",
    "neither_df = pd.DataFrame({'Type': neither, 'Spam_Label': spam_label}) \n",
    "neither_df.value_counts()"
   ],
   "metadata": {
    "colab": {
     "base_uri": "https://localhost:8080/"
    },
    "id": "H57YDmqHIGwH",
    "outputId": "c09bff8e-598e-4bf5-df3b-fa738c513edc"
   },
   "execution_count": 58,
   "outputs": [
    {
     "data": {
      "text/plain": "Type     Spam_Label\nneither  0             1553\n         1              926\ndtype: int64"
     },
     "execution_count": 58,
     "metadata": {},
     "output_type": "execute_result"
    }
   ]
  },
  {
   "cell_type": "code",
   "source": [
    "df = pd.concat([colleague_df, contacted_df, neither_df])\n",
    "print(df.value_counts())\n",
    "print(df.head())"
   ],
   "metadata": {
    "colab": {
     "base_uri": "https://localhost:8080/"
    },
    "id": "tA-IltUMJCRx",
    "outputId": "7d8957e3-d8e9-4b00-c0ed-d5c9ef5c1163"
   },
   "execution_count": 59,
   "outputs": [
    {
     "name": "stdout",
     "output_type": "stream",
     "text": [
      "Type       Spam_Label\n",
      "neither    0             1553\n",
      "contacted  0             1418\n",
      "colleague  0             1029\n",
      "neither    1              926\n",
      "contacted  1               59\n",
      "colleague  1               15\n",
      "dtype: int64\n",
      "        Type  Spam_Label\n",
      "0  colleague           1\n",
      "1  colleague           1\n",
      "2  colleague           1\n",
      "3  colleague           1\n",
      "4  colleague           1\n"
     ]
    }
   ]
  },
  {
   "cell_type": "code",
   "source": [
    "from sklearn.model_selection import train_test_split\n",
    "from sklearn.linear_model import LogisticRegression\n",
    "\n",
    "df = pd.get_dummies(df, columns=[\"Type\"])\n",
    "df = df.sample(frac=1).reset_index(drop=True)\n",
    "X = df[['Type_colleague', 'Type_contacted' ,'Type_neither']]\n",
    "y = df['Spam_Label']\n",
    "X_train, X_test, y_train, y_test = train_test_split(X, y, test_size=0.2, random_state=42)\n",
    "model = LogisticRegression()\n",
    "model.fit(X_train, y_train)\n",
    "y_pred = model.predict(X_test)\n",
    "from sklearn import metrics\n",
    "\n",
    "# Calculate evaluation metrics\n",
    "accuracy = metrics.accuracy_score(y_test, y_pred)\n",
    "print(\"Accuracy:\", accuracy)"
   ],
   "metadata": {
    "colab": {
     "base_uri": "https://localhost:8080/"
    },
    "id": "_o6EulEaNRaO",
    "outputId": "151e7674-6a92-47c1-f2cd-20edd1517330"
   },
   "execution_count": 60,
   "outputs": [
    {
     "name": "stdout",
     "output_type": "stream",
     "text": [
      "Accuracy: 0.795\n"
     ]
    }
   ]
  },
  {
   "cell_type": "code",
   "source": [
    "print(model.coef_)\n",
    "print(model.intercept_)\n",
    "print(model.feature_names_in_)\n",
    "print(model.n_iter_)"
   ],
   "metadata": {
    "colab": {
     "base_uri": "https://localhost:8080/"
    },
    "id": "vKwsuVBHPpfX",
    "outputId": "b914e88e-44f6-4366-b4a4-d9292b448306"
   },
   "execution_count": 61,
   "outputs": [
    {
     "name": "stdout",
     "output_type": "stream",
     "text": [
      "[[-1.53556669 -0.51338053  2.04932474]]\n",
      "[-2.58588651]\n",
      "['Type_colleague' 'Type_contacted' 'Type_neither']\n",
      "[24]\n"
     ]
    }
   ]
  },
  {
   "cell_type": "markdown",
   "source": [
    "## 2.4 LR using gradient descent"
   ],
   "metadata": {
    "id": "ppAPrTFeRELl"
   }
  },
  {
   "cell_type": "code",
   "source": [
    "from sklearn.metrics import accuracy_score"
   ],
   "metadata": {
    "id": "1afJYUohRfn-"
   },
   "execution_count": 62,
   "outputs": []
  },
  {
   "cell_type": "code",
   "source": [
    "# sigmoid function\n",
    "def sigmoid(z):\n",
    "    return 1 / (1 + np.exp(-z))\n",
    "\n",
    "\n",
    "def gradient_descent(X, y, learning_rate, num_iterations):\n",
    "    num_samples, num_features = X.shape\n",
    "    theta = np.zeros(num_features)  \n",
    "    cost_history = []  \n",
    "    \n",
    "    for _ in range(num_iterations):\n",
    "        # Calc predicted probabilities\n",
    "        y_pred = sigmoid(np.dot(X, theta))\n",
    "        \n",
    "        # Calc gradient and update params\n",
    "        gradient = np.dot(X.T, (y_pred - y)) / num_samples\n",
    "        theta -= learning_rate * gradient\n",
    "        \n",
    "        # Calc cost\n",
    "        cost = -(1 / num_samples) * np.sum(y * np.log(y_pred) + (1 - y) * np.log(1 - y_pred))\n",
    "        cost_history.append(cost)\n",
    "    \n",
    "    return theta, cost_history\n",
    "\n",
    "# hyperparameters\n",
    "learning_rate = 0.1\n",
    "num_iterations = 1000\n",
    "\n",
    "# Run gradient descent\n",
    "theta, cost_history = gradient_descent(X_train.values, y_train.values, learning_rate, num_iterations)\n",
    "\n",
    "# Predict\n",
    "y_pred = np.round(sigmoid(np.dot(X_test.values, theta))).astype(int)\n",
    "\n",
    "\n",
    "accuracy = accuracy_score(y_test, y_pred)\n",
    "print('Best params:')\n",
    "print('Intercept:', theta[0])\n",
    "print('Coefficient 1:', theta[1])\n",
    "print('Coefficient 2:', theta[2])\n",
    "print('Accuracy:', accuracy)"
   ],
   "metadata": {
    "colab": {
     "base_uri": "https://localhost:8080/"
    },
    "id": "65wumz9kRnRM",
    "outputId": "36445e72-4023-46a6-eb27-685c8a02791c"
   },
   "execution_count": 63,
   "outputs": [
    {
     "name": "stdout",
     "output_type": "stream",
     "text": [
      "Best params:\n",
      "Intercept: -2.8052426073182435\n",
      "Coefficient 1: -2.7188942007883186\n",
      "Coefficient 2: -0.5321472973961988\n",
      "Accuracy: 0.795\n"
     ]
    }
   ]
  },
  {
   "cell_type": "code",
   "source": [
    "import matplotlib.pyplot as plt\n",
    "# Plot the cost history\n",
    "plt.plot(range(num_iterations), cost_history)\n",
    "plt.xlabel('Iteration')\n",
    "plt.ylabel('Cost')\n",
    "plt.title('Cost History')\n",
    "plt.show()"
   ],
   "metadata": {
    "colab": {
     "base_uri": "https://localhost:8080/",
     "height": 472
    },
    "id": "lA_zTt7sTwaA",
    "outputId": "d1f9847b-6a79-464f-fa1c-702e6dc2b4ed"
   },
   "execution_count": 64,
   "outputs": [
    {
     "data": {
      "text/plain": "<Figure size 640x480 with 1 Axes>",
      "image/png": "[encoded data removed]"
     },
     "metadata": {},
     "output_type": "display_data"
    }
   ]
  },
  {
   "cell_type": "markdown",
   "source": [
    "## 2.5 Trustworthiness (10 Pts.)\n",
    "\n",
    " - We have seen above that for the given data, logistic regression performs reasonably well for the task of classifying email as spam or non-spam. We have an accuracy of 0.8 on the task.\n",
    "\n",
    " - Some advantages of the logistic regression model are:\n",
    "    - It is simple and interpretable. The model allows a probabilistic interpretation of the results. \n",
    "    - The co-efficient values of the model shows the importance assigned to each feature. \n",
    "    - Moreover, the assumption of logistic regression, that the features are independent and do not interact, holds in this case.\n",
    "\n",
    " - Some disadvantages however are:\n",
    "  -  that logistic regression assumes a linear decision boundary. This may result in the model underfitting the data since it cannot capture complex non-linear relationships. \n",
    "  - Also, in our case the data is imbalanced (1000 spam and 4000 non-spam). This can bias the predictions towards the majority class.\n",
    "  - Moreover, we do not consider the actual text content of the emails, which could also contain a lot of information useful for classification.\n",
    "\n",
    "- Possible remedies: \n",
    "  - Include the text content from the emails. We could then use various feature engineering methods word frequencies, n-grams, TF-IDF or word embeddings.\n",
    "  - We could handle the class imbalance using techniques like oversampling or undersampling or algorithms like SMOTE.\n",
    "  - We could use more sophisticated models like SVM to capture complex relationships."
   ],
   "metadata": {
    "id": "sU9LG1g_YfDH"
   }
  },
  {
   "cell_type": "markdown",
   "source": [
    "## 2.6 TF-IDF\n",
    "\n",
    "- TF-IDF stands for Term Frequency-Inverse Document Frequency. This is a value that signifies the importance of a term in a document from a collection of documents.\n",
    "\n",
    " - Term Frequency (TF): It is a measure of how frequently a term occurs in a particular document. It is calculated as a ratio of the number of times a term appears in a document to the total number of terms in the document.\n",
    " - Inverse Document Frequency (IDF): This measures the importance of the term in a collection of documents. i.e. it looks at how common a word is in a set of documents. It is calculated as the inverse value in how many documents the term occurs. So if the term is found in many documents then it has a lower IDF. \n",
    "\n"
   ],
   "metadata": {
    "id": "NJvUpwO5ex3X"
   }
  },
  {
   "cell_type": "markdown",
   "source": [
    "# Task 3\n",
    "\n",
    "This task expects the SMSSpamCollection to be present in the content directory at root level."
   ],
   "metadata": {
    "id": "eEox0rknYEst"
   }
  },
  {
   "cell_type": "code",
   "source": [
    "### For training\n",
    "from sklearn.feature_extraction.text import TfidfVectorizer\n",
    "\n",
    "### For Splitting Data\n",
    "from sklearn.model_selection import train_test_split\n",
    "\n",
    "### For linear regression and classification\n",
    "from sklearn import linear_model\n",
    "from sklearn.metrics import classification_report\n",
    "\n",
    "### For using kNN Model\n",
    "from sklearn.neighbors import KNeighborsClassifier"
   ],
   "metadata": {
    "id": "3Iv_hX5he05K"
   },
   "execution_count": 65,
   "outputs": []
  },
  {
   "cell_type": "code",
   "source": [
    "## Reading the data\n",
    "sms_file = open('content/SMSSpamCollection', 'r')\n",
    "all_sms = sms_file.readlines()\n",
    "\n",
    "data = {'SMS': [], 'spam': []}\n",
    "\n",
    "for sms in all_sms:\n",
    "  sms_split = sms.split('\\t')\n",
    "  data['SMS'].append(' '.join(sms_split[1:]))\n",
    "  data['spam'].append(0 if sms_split[0] == 'ham' else 1)\n",
    "\n",
    "\n",
    "sms_df = pd.DataFrame.from_dict(data)\n",
    "sms_df.head(10)"
   ],
   "metadata": {
    "id": "I7C28vHFYTa1",
    "colab": {
     "base_uri": "https://localhost:8080/",
     "height": 241
    },
    "outputId": "4f4847ee-52a8-40ea-ffe8-8b518c0f36ad"
   },
   "execution_count": 66,
   "outputs": [
    {
     "data": {
      "text/plain": "                                                 SMS  spam\n0  Go until jurong point, crazy.. Available only ...     0\n1                    Ok lar... Joking wif u oni...\\n     0\n2  Free entry in 2 a wkly comp to win FA Cup fina...     1\n3  U dun say so early hor... U c already then say...     0\n4  Nah I don't think he goes to usf, he lives aro...     0\n5  FreeMsg Hey there darling it's been 3 week's n...     1\n6  Even my brother is not like to speak with me. ...     0\n7  As per your request 'Melle Melle (Oru Minnamin...     0\n8  WINNER!! As a valued network customer you have...     1\n9  Had your mobile 11 months or more? U R entitle...     1",
      "text/html": "<div>\n<style scoped>\n    .dataframe tbody tr th:only-of-type {\n        vertical-align: middle;\n    }\n\n    .dataframe tbody tr th {\n        vertical-align: top;\n    }\n\n    .dataframe thead th {\n        text-align: right;\n    }\n</style>\n<table border=\"1\" class=\"dataframe\">\n  <thead>\n    <tr style=\"text-align: right;\">\n      <th></th>\n      <th>SMS</th>\n      <th>spam</th>\n    </tr>\n  </thead>\n  <tbody>\n    <tr>\n      <th>0</th>\n      <td>Go until jurong point, crazy.. Available only ...</td>\n      <td>0</td>\n    </tr>\n    <tr>\n      <th>1</th>\n      <td>Ok lar... Joking wif u oni...\\n</td>\n      <td>0</td>\n    </tr>\n    <tr>\n      <th>2</th>\n      <td>Free entry in 2 a wkly comp to win FA Cup fina...</td>\n      <td>1</td>\n    </tr>\n    <tr>\n      <th>3</th>\n      <td>U dun say so early hor... U c already then say...</td>\n      <td>0</td>\n    </tr>\n    <tr>\n      <th>4</th>\n      <td>Nah I don't think he goes to usf, he lives aro...</td>\n      <td>0</td>\n    </tr>\n    <tr>\n      <th>5</th>\n      <td>FreeMsg Hey there darling it's been 3 week's n...</td>\n      <td>1</td>\n    </tr>\n    <tr>\n      <th>6</th>\n      <td>Even my brother is not like to speak with me. ...</td>\n      <td>0</td>\n    </tr>\n    <tr>\n      <th>7</th>\n      <td>As per your request 'Melle Melle (Oru Minnamin...</td>\n      <td>0</td>\n    </tr>\n    <tr>\n      <th>8</th>\n      <td>WINNER!! As a valued network customer you have...</td>\n      <td>1</td>\n    </tr>\n    <tr>\n      <th>9</th>\n      <td>Had your mobile 11 months or more? U R entitle...</td>\n      <td>1</td>\n    </tr>\n  </tbody>\n</table>\n</div>"
     },
     "execution_count": 66,
     "metadata": {},
     "output_type": "execute_result"
    }
   ]
  },
  {
   "cell_type": "code",
   "source": [
    "## Preprocessing \n",
    "nltk.download('stopwords')\n",
    "nltk.download('wordnet')\n",
    "nltk.download('omw-1.4')\n",
    "\n",
    "punctuations = '!\"#$%&\\'()*+,-./:;<=>?@[\\]^_`{|}~'\n",
    "stop_words = stopwords.words('english')\n",
    "\n",
    "### Removing Punctuation\n",
    "preprocessed_data = sms_df.copy()\n",
    "preprocessed_data['SMS'] = preprocessed_data['SMS'].apply(lambda x: \n",
    "                    ' '.join([word for word in x.split() \n",
    "                    if word not in (punctuations)]))\n",
    "\n",
    "\n",
    "### Performining Lematization\n",
    "lemmatizer = nltk.stem.WordNetLemmatizer()\n",
    "\n",
    "preprocessed_data['SMS'] = preprocessed_data['SMS'].apply(lambda x: \n",
    "                     ' '.join([lemmatizer.lemmatize(word) \n",
    "                     for word in x.split()]))\n",
    "\n",
    "### Trianing the model\n",
    "x = TfidfVectorizer().fit_transform(preprocessed_data['SMS']).toarray()\n",
    "y = preprocessed_data['spam'].tolist()"
   ],
   "metadata": {
    "id": "WkzacQpEYUGA"
   },
   "execution_count": 67,
   "outputs": [
    {
     "name": "stderr",
     "output_type": "stream",
     "text": [
      "[nltk_data] Downloading package stopwords to\n",
      "[nltk_data]     C:\\Users\\ruben\\AppData\\Roaming\\nltk_data...\n",
      "[nltk_data]   Package stopwords is already up-to-date!\n",
      "[nltk_data] Downloading package wordnet to\n",
      "[nltk_data]     C:\\Users\\ruben\\AppData\\Roaming\\nltk_data...\n",
      "[nltk_data]   Package wordnet is already up-to-date!\n",
      "[nltk_data] Downloading package omw-1.4 to\n",
      "[nltk_data]     C:\\Users\\ruben\\AppData\\Roaming\\nltk_data...\n",
      "[nltk_data]   Package omw-1.4 is already up-to-date!\n"
     ]
    }
   ]
  },
  {
   "cell_type": "code",
   "source": [
    "## Spliting data into test and training data\n",
    "x_train, x_test, y_train, y_test = train_test_split(x, y, test_size=0.2, random_state=20)"
   ],
   "metadata": {
    "id": "fF__zbCcYVkx"
   },
   "execution_count": 68,
   "outputs": []
  },
  {
   "cell_type": "code",
   "source": [
    "## Linear Regression\n",
    "logistic_regression = linear_model.LogisticRegression()\n",
    "logistic_regression.fit(x_train, y_train)"
   ],
   "metadata": {
    "id": "QxGXK-43YWvs"
   },
   "execution_count": 69,
   "outputs": [
    {
     "data": {
      "text/plain": "LogisticRegression()",
      "text/html": "<style>#sk-container-id-3 {color: black;background-color: white;}#sk-container-id-3 pre{padding: 0;}#sk-container-id-3 div.sk-toggleable {background-color: white;}#sk-container-id-3 label.sk-toggleable__label {cursor: pointer;display: block;width: 100%;margin-bottom: 0;padding: 0.3em;box-sizing: border-box;text-align: center;}#sk-container-id-3 label.sk-toggleable__label-arrow:before {content: \"▸\";float: left;margin-right: 0.25em;color: #696969;}#sk-container-id-3 label.sk-toggleable__label-arrow:hover:before {color: black;}#sk-container-id-3 div.sk-estimator:hover label.sk-toggleable__label-arrow:before {color: black;}#sk-container-id-3 div.sk-toggleable__content {max-height: 0;max-width: 0;overflow: hidden;text-align: left;background-color: #f0f8ff;}#sk-container-id-3 div.sk-toggleable__content pre {margin: 0.2em;color: black;border-radius: 0.25em;background-color: #f0f8ff;}#sk-container-id-3 input.sk-toggleable__control:checked~div.sk-toggleable__content {max-height: 200px;max-width: 100%;overflow: auto;}#sk-container-id-3 input.sk-toggleable__control:checked~label.sk-toggleable__label-arrow:before {content: \"▾\";}#sk-container-id-3 div.sk-estimator input.sk-toggleable__control:checked~label.sk-toggleable__label {background-color: #d4ebff;}#sk-container-id-3 div.sk-label input.sk-toggleable__control:checked~label.sk-toggleable__label {background-color: #d4ebff;}#sk-container-id-3 input.sk-hidden--visually {border: 0;clip: rect(1px 1px 1px 1px);clip: rect(1px, 1px, 1px, 1px);height: 1px;margin: -1px;overflow: hidden;padding: 0;position: absolute;width: 1px;}#sk-container-id-3 div.sk-estimator {font-family: monospace;background-color: #f0f8ff;border: 1px dotted black;border-radius: 0.25em;box-sizing: border-box;margin-bottom: 0.5em;}#sk-container-id-3 div.sk-estimator:hover {background-color: #d4ebff;}#sk-container-id-3 div.sk-parallel-item::after {content: \"\";width: 100%;border-bottom: 1px solid gray;flex-grow: 1;}#sk-container-id-3 div.sk-label:hover label.sk-toggleable__label {background-color: #d4ebff;}#sk-container-id-3 div.sk-serial::before {content: \"\";position: absolute;border-left: 1px solid gray;box-sizing: border-box;top: 0;bottom: 0;left: 50%;z-index: 0;}#sk-container-id-3 div.sk-serial {display: flex;flex-direction: column;align-items: center;background-color: white;padding-right: 0.2em;padding-left: 0.2em;position: relative;}#sk-container-id-3 div.sk-item {position: relative;z-index: 1;}#sk-container-id-3 div.sk-parallel {display: flex;align-items: stretch;justify-content: center;background-color: white;position: relative;}#sk-container-id-3 div.sk-item::before, #sk-container-id-3 div.sk-parallel-item::before {content: \"\";position: absolute;border-left: 1px solid gray;box-sizing: border-box;top: 0;bottom: 0;left: 50%;z-index: -1;}#sk-container-id-3 div.sk-parallel-item {display: flex;flex-direction: column;z-index: 1;position: relative;background-color: white;}#sk-container-id-3 div.sk-parallel-item:first-child::after {align-self: flex-end;width: 50%;}#sk-container-id-3 div.sk-parallel-item:last-child::after {align-self: flex-start;width: 50%;}#sk-container-id-3 div.sk-parallel-item:only-child::after {width: 0;}#sk-container-id-3 div.sk-dashed-wrapped {border: 1px dashed gray;margin: 0 0.4em 0.5em 0.4em;box-sizing: border-box;padding-bottom: 0.4em;background-color: white;}#sk-container-id-3 div.sk-label label {font-family: monospace;font-weight: bold;display: inline-block;line-height: 1.2em;}#sk-container-id-3 div.sk-label-container {text-align: center;}#sk-container-id-3 div.sk-container {/* jupyter's `normalize.less` sets `[hidden] { display: none; }` but bootstrap.min.css set `[hidden] { display: none !important; }` so we also need the `!important` here to be able to override the default hidden behavior on the sphinx rendered scikit-learn.org. See: https://github.com/scikit-learn/scikit-learn/issues/21755 */display: inline-block !important;position: relative;}#sk-container-id-3 div.sk-text-repr-fallback {display: none;}</style><div id=\"sk-container-id-3\" class=\"sk-top-container\"><div class=\"sk-text-repr-fallback\"><pre>LogisticRegression()</pre><b>In a Jupyter environment, please rerun this cell to show the HTML representation or trust the notebook. <br />On GitHub, the HTML representation is unable to render, please try loading this page with nbviewer.org.</b></div><div class=\"sk-container\" hidden><div class=\"sk-item\"><div class=\"sk-estimator sk-toggleable\"><input class=\"sk-toggleable__control sk-hidden--visually\" id=\"sk-estimator-id-3\" type=\"checkbox\" checked><label for=\"sk-estimator-id-3\" class=\"sk-toggleable__label sk-toggleable__label-arrow\">LogisticRegression</label><div class=\"sk-toggleable__content\"><pre>LogisticRegression()</pre></div></div></div></div></div>"
     },
     "execution_count": 69,
     "metadata": {},
     "output_type": "execute_result"
    }
   ]
  },
  {
   "cell_type": "code",
   "source": [
    "## Get the logistic regression report\n",
    "y_pred = logistic_regression.predict(x_test)\n",
    "\n",
    "print(f'Accuracy: {round(logistic_regression.score(x_test, y_test) * 100, 2)}%')\n",
    "\n",
    "print(classification_report(y_test, y_pred))"
   ],
   "metadata": {
    "id": "fH2km9AvYYCc"
   },
   "execution_count": 70,
   "outputs": [
    {
     "name": "stdout",
     "output_type": "stream",
     "text": [
      "Accuracy: 97.13%\n",
      "              precision    recall  f1-score   support\n",
      "\n",
      "           0       0.97      1.00      0.98       966\n",
      "           1       1.00      0.79      0.88       149\n",
      "\n",
      "    accuracy                           0.97      1115\n",
      "   macro avg       0.98      0.89      0.93      1115\n",
      "weighted avg       0.97      0.97      0.97      1115\n",
      "\n"
     ]
    }
   ]
  },
  {
   "cell_type": "code",
   "source": [
    "## Running kNN with k = 3\n",
    "knn = KNeighborsClassifier(n_neighbors=3)\n",
    "knn.fit(x_train, y_train)\n",
    "\n",
    "y_pred = logistic_regression.predict(x_test)\n",
    "\n",
    "print(f'Accuracy: {round(knn.score(x_test, y_test) * 100, 2)}%')\n",
    "\n",
    "print(classification_report(y_test, y_pred))"
   ],
   "metadata": {
    "id": "-GsSkuiuYbMB"
   },
   "execution_count": 71,
   "outputs": [
    {
     "name": "stdout",
     "output_type": "stream",
     "text": [
      "Accuracy: 91.93%\n",
      "              precision    recall  f1-score   support\n",
      "\n",
      "           0       0.97      1.00      0.98       966\n",
      "           1       1.00      0.79      0.88       149\n",
      "\n",
      "    accuracy                           0.97      1115\n",
      "   macro avg       0.98      0.89      0.93      1115\n",
      "weighted avg       0.97      0.97      0.97      1115\n",
      "\n"
     ]
    }
   ]
  },
  {
   "cell_type": "code",
   "execution_count": 71,
   "outputs": [],
   "source": [],
   "metadata": {
    "collapsed": false
   }
  }
 ]
}
