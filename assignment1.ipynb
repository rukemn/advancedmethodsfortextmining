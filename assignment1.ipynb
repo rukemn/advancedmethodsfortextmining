{
 "cells": [
  {
   "cell_type": "markdown",
   "source": [
    "1.1\n",
    "\n",
    "Sentence tokenization:\n",
    "Sentence tokenization is the process of breaking down a text corpus into individual sentences. For this we can use punctuation such as periods, exclamation marks, or question marks.\n",
    "\n",
    "Word tokenization:\n",
    "Word tokenization is the process of breaking down a sentence into words or tokens. For this we can use spaces, tabs or other dividing whitespace between words.\n",
    "\n",
    "Part-of-speech (POS) tagging:\n",
    "POS means tagging words by grammatical categoriey (such as nouns, verbs, adjectives, etc.) to each token in a text.\n",
    "\n",
    "Lemmatization:\n",
    "lemmatization is the process of mapping words to their base word. Examples for this are conjugated verbs and their infinitive or adjectives.\n",
    "\n",
    "Stop word removal:\n",
    "Stop words are words that occur frequently in normal texts, regardless of their topic. Examples for this are \"are\", \"and\", \"to\". Their removal acts as a type of dimensionality reduction thus reducing computational complexity and probably yielding clearer.\n"
   ],
   "metadata": {
    "collapsed": false
   }
  },
  {
   "cell_type": "markdown",
   "source": [
    "1.2"
   ],
   "metadata": {
    "collapsed": false
   }
  },
  {
   "cell_type": "code",
   "execution_count": 32,
   "metadata": {
    "collapsed": true,
    "ExecuteTime": {
     "end_time": "2023-05-16T21:34:23.443639151Z",
     "start_time": "2023-05-16T21:34:20.668073340Z"
    }
   },
   "outputs": [
    {
     "name": "stderr",
     "output_type": "stream",
     "text": [
      "[nltk_data] Downloading package stopwords to /home/kemna/nltk_data...\n",
      "[nltk_data]   Package stopwords is already up-to-date!\n",
      "[nltk_data] Downloading package punkt to /home/kemna/nltk_data...\n",
      "[nltk_data]   Package punkt is already up-to-date!\n",
      "[nltk_data] Downloading package wordnet to /home/kemna/nltk_data...\n",
      "[nltk_data]   Package wordnet is already up-to-date!\n"
     ]
    },
    {
     "name": "stdout",
     "output_type": "stream",
     "text": [
      "['Once time quaint village nestled emerald green hill crystal clear river lived kindhearted cobbler named Albert', 'Albert renowned village unmatched skill crafting beautiful shoe wisdom generosity', 'He lived small cozy house built aged oak adorned blooming flower resonated warmth personality', 'Every morning Albert rise sun cherishing peaceful chorus birdsong prepared day', 'His routine included hearty breakfast freshly baked bread golden honey cup steaming tea', 'Fortified head workshop filled rich scent leather rhythmic sound tool', 'There spend day meticulously crafting shoe pair unique piece art reflecting personality future owner', 'Each evening long day work Albert enjoy leisurely walk river observing tranquil beauty setting sun', 'He relished moment found inspiration work', 'He stop chat villager keen lend ear share word advice', 'His kindhearted nature wisdom earned respect affection village', \"One day Albert received unusual request pair shoe village mayor 's daughter 's wedding\", 'The request challenged skill Albert opportunity create masterpiece', 'He invested day hard work carefully selecting finest leather intricately designing pattern ensuring perfect fit', 'When finally presented shoe sight behold', \"The villager awestruck mayor 's daughter overjoyed\", \"The shoe testament Albert 's skill dedication deep understanding craft\", 'This Albert cobbler reminder beauty everyday life joy love profound impact work', 'It highlight importance dedication patience pursuit perfection', \"As navigate life 's remember appreciate thing generous kind continually seek inspiration world\"]\n"
     ]
    }
   ],
   "source": [
    "import string\n",
    "import nltk\n",
    "from nltk import tokenize\n",
    "\n",
    "from nltk.stem import WordNetLemmatizer     #uses the wordnet database, containing grouped words\n",
    "from nltk.corpus import stopwords\n",
    "nltk.download(\"stopwords\")\n",
    "nltk.download(\"punkt\")\n",
    "nltk.download('wordnet')\n",
    "\n",
    "test_paragraph = '''Once upon a time, in a quaint little village nestled between the emerald green hills and the crystal clear river, lived a kindhearted cobbler named Albert. Albert was renowned throughout the village, not just for his unmatched skill in crafting beautiful shoes, but also for his wisdom and generosity. He lived in a small but cozy house, built from aged oak and adorned with blooming flowers, that resonated with the warmth of his personality.\n",
    "\n",
    "Every morning, Albert would rise with the sun, cherishing the peaceful chorus of birdsongs as he prepared for his day. His routine included a hearty breakfast of freshly baked bread, golden honey, and a cup of steaming tea. Fortified, he would then head to his workshop, a haven filled with the rich scent of leather and the rhythmic sounds of his tools. There, he would spend his day meticulously crafting shoes, each pair a unique piece of art, reflecting the personality of its future owner.\n",
    "\n",
    "Each evening, after a long day of work, Albert would enjoy a leisurely walk along the river, observing the tranquil beauty of the setting sun. He relished these moments, where he found inspiration for his work. He would often stop and chat with the villagers, always keen to lend an ear or share a word of advice. His kindhearted nature and wisdom earned him the respect and affection of everyone in the village.\n",
    "\n",
    "One day, Albert received an unusual request: a pair of shoes for the village mayor's daughter's wedding. The request challenged his skills, but Albert saw it as an opportunity to create his masterpiece. He invested days of hard work, carefully selecting the finest leather, intricately designing patterns, and ensuring perfect fit. When he finally presented the shoes, they were a sight to behold. The villagers were awestruck, and the mayor's daughter was overjoyed. The shoes were a testament to Albert's skill, dedication, and his deep understanding of his craft.\n",
    "\n",
    "This tale of Albert the cobbler is a reminder of the beauty in everyday life, the joy of doing what we love, and the profound impact our work can have on others. It highlights the importance of dedication, patience, and the pursuit of perfection. As we navigate through life, let's remember to appreciate the little things, to be generous and kind, and to continually seek inspiration in the world around us.'''\n",
    "\n",
    "def process_paragraph(paragraph):\n",
    "\n",
    "    sent_tokens = tokenize.sent_tokenize(paragraph) # needs the download of punkt\n",
    "\n",
    "    wlm = WordNetLemmatizer() # uses the wordnet dataset rules to get the base form\n",
    "    sentences = []\n",
    "    for sentence in sent_tokens:\n",
    "        words = tokenize.word_tokenize(sentence) #contains \",\"\n",
    "        words_cleaned = [word for word in words  if word not in stopwords.words() and word not in string.punctuation]\n",
    "\n",
    "        lemmatized = [wlm.lemmatize(w) for w in words_cleaned]\n",
    "\n",
    "        finished = ' '.join(lemmatized)\n",
    "        sentences.append(finished)\n",
    "    return sentences\n",
    "\n",
    "s = process_paragraph(test_paragraph)\n",
    "print(s)"
   ]
  },
  {
   "cell_type": "markdown",
   "source": [
    "2 Logistic Regression NEEDS CORRECTIONS / LATEX TYPING\n",
    "\n",
    "2.1\n",
    "\n",
    "OddsRation = Event_happens / Event_doesnt_happen\n",
    "\n",
    "Neither:\n",
    "    OR = (926/2479) / (1553/2479) = 0.596169194\n",
    "\n",
    "Contacted:\n",
    "    OR = (59/1477) / (1418/1477)\n",
    "\n",
    "\n",
    "2.2 started\n",
    "\n",
    "X are the embedded observations , n = 5000 in total\n",
    "\n",
    "m-1 is the dimension of each embedding, the additional beta_0 is the the coefficient that acts as a bias, since each observation is added an invariant 1 to be multiplied with the beta_0's.\n",
    "\n",
    "\n",
    "general\n",
    "ln ( SPAM / NOT_SPAM) = b0 + b_1 * x1 + .... +  b_m * x_m\n",
    "\n",
    "\n",
    "for the neither base case:\n",
    "\n",
    "\n",
    "ln ( 926 / 1553) = b0 + b_1 * x1 + .... +  b_m * x_m\n",
    "\n",
    "\n",
    "2.3\n",
    "\n",
    "l(y, x, β) = nX\n",
    "y i ln p i + (1 − y i ) ln(1 − p i ).\n",
    "\n"
   ],
   "metadata": {
    "collapsed": false
   }
  },
  {
   "cell_type": "markdown",
   "source": [],
   "metadata": {
    "collapsed": false
   }
  },
  {
   "cell_type": "markdown",
   "source": [
    "Exercise 3\n",
    "\n"
   ],
   "metadata": {
    "collapsed": false
   }
  },
  {
   "cell_type": "code",
   "execution_count": 33,
   "outputs": [
    {
     "name": "stdout",
     "output_type": "stream",
     "text": [
      "4459\n",
      "1115\n"
     ]
    },
    {
     "data": {
      "text/plain": "                                                   text  label\n1207           As SIM subscriber selected receive Bonus      1\n1537                                        How 's feel      0\n2002                                Idea converted live      0\n1771                                          Dont show      0\n2614          Thanks sending mental ability question ..      0\n3843                                              chile      0\n2184  Chinatown porridge claypot rice yam cake fishh...      0\n1934                                       R scratching      0\n3584                                  I money yesterday      0\n1486                   I add I n't n't I fuck hey money      0\n526                            Hi n't b ard 4 christmas      0\n71                                       Finished class      0\n199                                     Hi Kate evening      0\n356   Thank You calling.Forgot Happy Onam Sirji.I fi...      0\n2463  Rose water season change poet imagination .. M...      0\n2124  +123 Congratulations week 's competition draw ...      1\n3534                                   Sorry I 'll call      0\n4304                                    Yup 'm free ...      0\n4913                                          I tirupur      0\n3992                                          I ur home      0\n3047                                      So 's weather      0\n4707                                        Wow healthy      0\n77                                         I people shy      0\n4089                   He stop bed make fucking dealing      0\n4974                               Oops I shower called      0\n1233                           1 's finish meeting call      0\n1816  Sian ... Aft meeting supervisor work 2 liao .....      0\n3301                                        Just easier      0\n1717                                      Sorry earlier      0\n1107                                Good afternoon love      0\n2150                                             Waaaat      0\n1424                                   Lol great hungry      0\n1839                                          Hack Chat      1\n3154               I tagged MY friend count YOUR friend      0\n5428                                                 Oh      0\n3367                                 I waiting call sir      0\n4351                                                Yes      0\n1090               Goodmorning today late lt DECIMAL gt      0\n36                               Oops I 'll roommate 's      0\n1257                    Not chikku .. room nw 'm bus ..      0\n4909                                      I 'm solihull      0\n2787                           cThen thk shd b enuff ..      0\n1812                         Do wan 2 meet combine part      0\n1336              Sometimes put wall heart safe hurt ..      0\n3913        You important customer service announcement      1\n2151            The table 's occupied I 'm waiting tree      0\n397                              Was sleeping call back      0\n1166                                         Haha I sec      0\n3439                                           Its hear      0\n5351                                      I 'm home ...      0",
      "text/html": "<div>\n<style scoped>\n    .dataframe tbody tr th:only-of-type {\n        vertical-align: middle;\n    }\n\n    .dataframe tbody tr th {\n        vertical-align: top;\n    }\n\n    .dataframe thead th {\n        text-align: right;\n    }\n</style>\n<table border=\"1\" class=\"dataframe\">\n  <thead>\n    <tr style=\"text-align: right;\">\n      <th></th>\n      <th>text</th>\n      <th>label</th>\n    </tr>\n  </thead>\n  <tbody>\n    <tr>\n      <th>1207</th>\n      <td>As SIM subscriber selected receive Bonus</td>\n      <td>1</td>\n    </tr>\n    <tr>\n      <th>1537</th>\n      <td>How 's feel</td>\n      <td>0</td>\n    </tr>\n    <tr>\n      <th>2002</th>\n      <td>Idea converted live</td>\n      <td>0</td>\n    </tr>\n    <tr>\n      <th>1771</th>\n      <td>Dont show</td>\n      <td>0</td>\n    </tr>\n    <tr>\n      <th>2614</th>\n      <td>Thanks sending mental ability question ..</td>\n      <td>0</td>\n    </tr>\n    <tr>\n      <th>3843</th>\n      <td>chile</td>\n      <td>0</td>\n    </tr>\n    <tr>\n      <th>2184</th>\n      <td>Chinatown porridge claypot rice yam cake fishh...</td>\n      <td>0</td>\n    </tr>\n    <tr>\n      <th>1934</th>\n      <td>R scratching</td>\n      <td>0</td>\n    </tr>\n    <tr>\n      <th>3584</th>\n      <td>I money yesterday</td>\n      <td>0</td>\n    </tr>\n    <tr>\n      <th>1486</th>\n      <td>I add I n't n't I fuck hey money</td>\n      <td>0</td>\n    </tr>\n    <tr>\n      <th>526</th>\n      <td>Hi n't b ard 4 christmas</td>\n      <td>0</td>\n    </tr>\n    <tr>\n      <th>71</th>\n      <td>Finished class</td>\n      <td>0</td>\n    </tr>\n    <tr>\n      <th>199</th>\n      <td>Hi Kate evening</td>\n      <td>0</td>\n    </tr>\n    <tr>\n      <th>356</th>\n      <td>Thank You calling.Forgot Happy Onam Sirji.I fi...</td>\n      <td>0</td>\n    </tr>\n    <tr>\n      <th>2463</th>\n      <td>Rose water season change poet imagination .. M...</td>\n      <td>0</td>\n    </tr>\n    <tr>\n      <th>2124</th>\n      <td>+123 Congratulations week 's competition draw ...</td>\n      <td>1</td>\n    </tr>\n    <tr>\n      <th>3534</th>\n      <td>Sorry I 'll call</td>\n      <td>0</td>\n    </tr>\n    <tr>\n      <th>4304</th>\n      <td>Yup 'm free ...</td>\n      <td>0</td>\n    </tr>\n    <tr>\n      <th>4913</th>\n      <td>I tirupur</td>\n      <td>0</td>\n    </tr>\n    <tr>\n      <th>3992</th>\n      <td>I ur home</td>\n      <td>0</td>\n    </tr>\n    <tr>\n      <th>3047</th>\n      <td>So 's weather</td>\n      <td>0</td>\n    </tr>\n    <tr>\n      <th>4707</th>\n      <td>Wow healthy</td>\n      <td>0</td>\n    </tr>\n    <tr>\n      <th>77</th>\n      <td>I people shy</td>\n      <td>0</td>\n    </tr>\n    <tr>\n      <th>4089</th>\n      <td>He stop bed make fucking dealing</td>\n      <td>0</td>\n    </tr>\n    <tr>\n      <th>4974</th>\n      <td>Oops I shower called</td>\n      <td>0</td>\n    </tr>\n    <tr>\n      <th>1233</th>\n      <td>1 's finish meeting call</td>\n      <td>0</td>\n    </tr>\n    <tr>\n      <th>1816</th>\n      <td>Sian ... Aft meeting supervisor work 2 liao .....</td>\n      <td>0</td>\n    </tr>\n    <tr>\n      <th>3301</th>\n      <td>Just easier</td>\n      <td>0</td>\n    </tr>\n    <tr>\n      <th>1717</th>\n      <td>Sorry earlier</td>\n      <td>0</td>\n    </tr>\n    <tr>\n      <th>1107</th>\n      <td>Good afternoon love</td>\n      <td>0</td>\n    </tr>\n    <tr>\n      <th>2150</th>\n      <td>Waaaat</td>\n      <td>0</td>\n    </tr>\n    <tr>\n      <th>1424</th>\n      <td>Lol great hungry</td>\n      <td>0</td>\n    </tr>\n    <tr>\n      <th>1839</th>\n      <td>Hack Chat</td>\n      <td>1</td>\n    </tr>\n    <tr>\n      <th>3154</th>\n      <td>I tagged MY friend count YOUR friend</td>\n      <td>0</td>\n    </tr>\n    <tr>\n      <th>5428</th>\n      <td>Oh</td>\n      <td>0</td>\n    </tr>\n    <tr>\n      <th>3367</th>\n      <td>I waiting call sir</td>\n      <td>0</td>\n    </tr>\n    <tr>\n      <th>4351</th>\n      <td>Yes</td>\n      <td>0</td>\n    </tr>\n    <tr>\n      <th>1090</th>\n      <td>Goodmorning today late lt DECIMAL gt</td>\n      <td>0</td>\n    </tr>\n    <tr>\n      <th>36</th>\n      <td>Oops I 'll roommate 's</td>\n      <td>0</td>\n    </tr>\n    <tr>\n      <th>1257</th>\n      <td>Not chikku .. room nw 'm bus ..</td>\n      <td>0</td>\n    </tr>\n    <tr>\n      <th>4909</th>\n      <td>I 'm solihull</td>\n      <td>0</td>\n    </tr>\n    <tr>\n      <th>2787</th>\n      <td>cThen thk shd b enuff ..</td>\n      <td>0</td>\n    </tr>\n    <tr>\n      <th>1812</th>\n      <td>Do wan 2 meet combine part</td>\n      <td>0</td>\n    </tr>\n    <tr>\n      <th>1336</th>\n      <td>Sometimes put wall heart safe hurt ..</td>\n      <td>0</td>\n    </tr>\n    <tr>\n      <th>3913</th>\n      <td>You important customer service announcement</td>\n      <td>1</td>\n    </tr>\n    <tr>\n      <th>2151</th>\n      <td>The table 's occupied I 'm waiting tree</td>\n      <td>0</td>\n    </tr>\n    <tr>\n      <th>397</th>\n      <td>Was sleeping call back</td>\n      <td>0</td>\n    </tr>\n    <tr>\n      <th>1166</th>\n      <td>Haha I sec</td>\n      <td>0</td>\n    </tr>\n    <tr>\n      <th>3439</th>\n      <td>Its hear</td>\n      <td>0</td>\n    </tr>\n    <tr>\n      <th>5351</th>\n      <td>I 'm home ...</td>\n      <td>0</td>\n    </tr>\n  </tbody>\n</table>\n</div>"
     },
     "execution_count": 33,
     "metadata": {},
     "output_type": "execute_result"
    }
   ],
   "source": [
    "import pandas as pd\n",
    "import sklearn as sk\n",
    "from sklearn.model_selection import train_test_split\n",
    "\n",
    "x = []  # List to hold the text (features)\n",
    "y = []  # List to hold the labels\n",
    "with open('SMSSpamCollection', 'r') as f:\n",
    "    for line in f:\n",
    "        # Split the line into words\n",
    "        words = line.strip().split()\n",
    "\n",
    "        # The first word is the label, convert 'spam' to 0 and 'ham' to 1\n",
    "        if words[0].lower() == 'spam':\n",
    "            y.append(1)\n",
    "        elif words[0].lower() == 'ham':\n",
    "            y.append(0)\n",
    "\n",
    "        x.append(' '.join(words[1:]))\n",
    "\n",
    "\n",
    "spam = pd.DataFrame({\n",
    "    'text': x,\n",
    "    'label': y\n",
    "})\n",
    "\n",
    "train, test = train_test_split(spam, test_size=0.2)\n",
    "\n",
    "print(len(train))\n",
    "print(len(test))\n",
    "\n",
    "train = train.head(100) # comment out later, just for performance reasons\n",
    "\n",
    "train['text'] = train['text'].apply(process_paragraph)\n",
    "train['text'] = train['text'].apply(lambda l: l[0]) # unpack in order to leave process_paragraph method alone\n",
    "train.head(50)"
   ],
   "metadata": {
    "collapsed": false,
    "ExecuteTime": {
     "end_time": "2023-05-16T21:34:33.750869503Z",
     "start_time": "2023-05-16T21:34:23.471149498Z"
    }
   }
  },
  {
   "cell_type": "code",
   "execution_count": 33,
   "outputs": [],
   "source": [],
   "metadata": {
    "collapsed": false,
    "ExecuteTime": {
     "end_time": "2023-05-16T21:34:33.854526067Z",
     "start_time": "2023-05-16T21:34:33.749952271Z"
    }
   }
  }
 ],
 "metadata": {
  "kernelspec": {
   "display_name": "Python 3",
   "language": "python",
   "name": "python3"
  },
  "language_info": {
   "codemirror_mode": {
    "name": "ipython",
    "version": 2
   },
   "file_extension": ".py",
   "mimetype": "text/x-python",
   "name": "python",
   "nbconvert_exporter": "python",
   "pygments_lexer": "ipython2",
   "version": "2.7.6"
  }
 },
 "nbformat": 4,
 "nbformat_minor": 0
}
