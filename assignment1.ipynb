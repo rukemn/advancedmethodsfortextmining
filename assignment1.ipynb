{
 "cells": [
  {
   "cell_type": "markdown",
   "source": [
    "1.1\n",
    "\n",
    "Sentence tokenization:\n",
    "Sentence tokenization is the process of breaking down a text corpus into individual sentences. For this we can use punctuation such as periods, exclamation marks, or question marks.\n",
    "\n",
    "Word tokenization:\n",
    "Word tokenization is the process of breaking down a sentence into words or tokens. For this we can use spaces, tabs or other dividing whitespace between words.\n",
    "\n",
    "Part-of-speech (POS) tagging:\n",
    "POS means tagging words by grammatical categoriey (such as nouns, verbs, adjectives, etc.) to each token in a text.\n",
    "\n",
    "Lemmatization:\n",
    "lemmatization is the process of mapping words to their base word. Examples for this are conjugated verbs and their infinitive or adjectives.\n",
    "\n",
    "Stop word removal:\n",
    "Stop words are words that occur frequently in normal texts, regardless of their topic. Examples for this are \"are\", \"and\", \"to\". Their removal acts as a type of dimensionality reduction thus reducing computational complexity and probably yielding clearer.\n"
   ],
   "metadata": {
    "collapsed": false
   }
  },
  {
   "cell_type": "markdown",
   "source": [
    "1.2"
   ],
   "metadata": {
    "collapsed": false
   }
  },
  {
   "cell_type": "code",
   "execution_count": 25,
   "metadata": {
    "collapsed": true,
    "ExecuteTime": {
     "end_time": "2023-05-15T22:06:04.638838371Z",
     "start_time": "2023-05-15T22:06:02.725611926Z"
    }
   },
   "outputs": [
    {
     "name": "stderr",
     "output_type": "stream",
     "text": [
      "[nltk_data] Downloading package stopwords to /home/kemna/nltk_data...\n",
      "[nltk_data]   Package stopwords is already up-to-date!\n",
      "[nltk_data] Downloading package punkt to /home/kemna/nltk_data...\n",
      "[nltk_data]   Package punkt is already up-to-date!\n",
      "[nltk_data] Downloading package wordnet to /home/kemna/nltk_data...\n",
      "[nltk_data]   Package wordnet is already up-to-date!\n"
     ]
    },
    {
     "name": "stdout",
     "output_type": "stream",
     "text": [
      "Once upon a time, in a quaint little village nestled between the emerald green hills and the crystal clear river, lived a kindhearted cobbler named Albert. Albert was renowned throughout the village, not just for his unmatched skill in crafting beautiful shoes, but also for his wisdom and generosity. He lived in a small but cozy house, built from aged oak and adorned with blooming flowers, that resonated with the warmth of his personality.\n",
      "\n",
      "Every morning, Albert would rise with the sun, cherishing the peaceful chorus of birdsongs as he prepared for his day. His routine included a hearty breakfast of freshly baked bread, golden honey, and a cup of steaming tea. Fortified, he would then head to his workshop, a haven filled with the rich scent of leather and the rhythmic sounds of his tools. There, he would spend his day meticulously crafting shoes, each pair a unique piece of art, reflecting the personality of its future owner.\n",
      "\n",
      "Each evening, after a long day of work, Albert would enjoy a leisurely walk along the river, observing the tranquil beauty of the setting sun. He relished these moments, where he found inspiration for his work. He would often stop and chat with the villagers, always keen to lend an ear or share a word of advice. His kindhearted nature and wisdom earned him the respect and affection of everyone in the village.\n",
      "\n",
      "One day, Albert received an unusual request: a pair of shoes for the village mayor's daughter's wedding. The request challenged his skills, but Albert saw it as an opportunity to create his masterpiece. He invested days of hard work, carefully selecting the finest leather, intricately designing patterns, and ensuring perfect fit. When he finally presented the shoes, they were a sight to behold. The villagers were awestruck, and the mayor's daughter was overjoyed. The shoes were a testament to Albert's skill, dedication, and his deep understanding of his craft.\n",
      "\n",
      "This tale of Albert the cobbler is a reminder of the beauty in everyday life, the joy of doing what we love, and the profound impact our work can have on others. It highlights the importance of dedication, patience, and the pursuit of perfection. As we navigate through life, let's remember to appreciate the little things, to be generous and kind, and to continually seek inspiration in the world around us.\n",
      "['Once upon a time, in a quaint little village nestled between the emerald green hills and the crystal clear river, lived a kindhearted cobbler named Albert.', 'Albert was renowned throughout the village, not just for his unmatched skill in crafting beautiful shoes, but also for his wisdom and generosity.', 'He lived in a small but cozy house, built from aged oak and adorned with blooming flowers, that resonated with the warmth of his personality.', 'Every morning, Albert would rise with the sun, cherishing the peaceful chorus of birdsongs as he prepared for his day.', 'His routine included a hearty breakfast of freshly baked bread, golden honey, and a cup of steaming tea.', 'Fortified, he would then head to his workshop, a haven filled with the rich scent of leather and the rhythmic sounds of his tools.', 'There, he would spend his day meticulously crafting shoes, each pair a unique piece of art, reflecting the personality of its future owner.', 'Each evening, after a long day of work, Albert would enjoy a leisurely walk along the river, observing the tranquil beauty of the setting sun.', 'He relished these moments, where he found inspiration for his work.', 'He would often stop and chat with the villagers, always keen to lend an ear or share a word of advice.', 'His kindhearted nature and wisdom earned him the respect and affection of everyone in the village.', \"One day, Albert received an unusual request: a pair of shoes for the village mayor's daughter's wedding.\", 'The request challenged his skills, but Albert saw it as an opportunity to create his masterpiece.', 'He invested days of hard work, carefully selecting the finest leather, intricately designing patterns, and ensuring perfect fit.', 'When he finally presented the shoes, they were a sight to behold.', \"The villagers were awestruck, and the mayor's daughter was overjoyed.\", \"The shoes were a testament to Albert's skill, dedication, and his deep understanding of his craft.\", 'This tale of Albert the cobbler is a reminder of the beauty in everyday life, the joy of doing what we love, and the profound impact our work can have on others.', 'It highlights the importance of dedication, patience, and the pursuit of perfection.', \"As we navigate through life, let's remember to appreciate the little things, to be generous and kind, and to continually seek inspiration in the world around us.\"]\n",
      "20\n",
      "['Once', 'upon', 'a', 'time', ',', 'in', 'a', 'quaint', 'little', 'village', 'nestled', 'between', 'the', 'emerald', 'green', 'hills', 'and', 'the', 'crystal', 'clear', 'river', ',', 'lived', 'a', 'kindhearted', 'cobbler', 'named', 'Albert', '.']\n",
      "['Once', 'time', 'quaint', 'village', 'nestled', 'emerald', 'green', 'hill', 'crystal', 'clear', 'river', 'lived', 'kindhearted', 'cobbler', 'named', 'Albert']\n",
      "['Albert', 'was', 'renowned', 'throughout', 'the', 'village', ',', 'not', 'just', 'for', 'his', 'unmatched', 'skill', 'in', 'crafting', 'beautiful', 'shoes', ',', 'but', 'also', 'for', 'his', 'wisdom', 'and', 'generosity', '.']\n",
      "['Albert', 'renowned', 'village', 'unmatched', 'skill', 'crafting', 'beautiful', 'shoe', 'wisdom', 'generosity']\n",
      "['He', 'lived', 'in', 'a', 'small', 'but', 'cozy', 'house', ',', 'built', 'from', 'aged', 'oak', 'and', 'adorned', 'with', 'blooming', 'flowers', ',', 'that', 'resonated', 'with', 'the', 'warmth', 'of', 'his', 'personality', '.']\n",
      "['He', 'lived', 'small', 'cozy', 'house', 'built', 'aged', 'oak', 'adorned', 'blooming', 'flower', 'resonated', 'warmth', 'personality']\n",
      "['Every', 'morning', ',', 'Albert', 'would', 'rise', 'with', 'the', 'sun', ',', 'cherishing', 'the', 'peaceful', 'chorus', 'of', 'birdsongs', 'as', 'he', 'prepared', 'for', 'his', 'day', '.']\n",
      "['Every', 'morning', 'Albert', 'rise', 'sun', 'cherishing', 'peaceful', 'chorus', 'birdsong', 'prepared', 'day']\n",
      "['His', 'routine', 'included', 'a', 'hearty', 'breakfast', 'of', 'freshly', 'baked', 'bread', ',', 'golden', 'honey', ',', 'and', 'a', 'cup', 'of', 'steaming', 'tea', '.']\n",
      "['His', 'routine', 'included', 'hearty', 'breakfast', 'freshly', 'baked', 'bread', 'golden', 'honey', 'cup', 'steaming', 'tea']\n",
      "['Fortified', ',', 'he', 'would', 'then', 'head', 'to', 'his', 'workshop', ',', 'a', 'haven', 'filled', 'with', 'the', 'rich', 'scent', 'of', 'leather', 'and', 'the', 'rhythmic', 'sounds', 'of', 'his', 'tools', '.']\n",
      "['Fortified', 'head', 'workshop', 'filled', 'rich', 'scent', 'leather', 'rhythmic', 'sound', 'tool']\n",
      "['There', ',', 'he', 'would', 'spend', 'his', 'day', 'meticulously', 'crafting', 'shoes', ',', 'each', 'pair', 'a', 'unique', 'piece', 'of', 'art', ',', 'reflecting', 'the', 'personality', 'of', 'its', 'future', 'owner', '.']\n",
      "['There', 'spend', 'day', 'meticulously', 'crafting', 'shoe', 'pair', 'unique', 'piece', 'art', 'reflecting', 'personality', 'future', 'owner']\n",
      "['Each', 'evening', ',', 'after', 'a', 'long', 'day', 'of', 'work', ',', 'Albert', 'would', 'enjoy', 'a', 'leisurely', 'walk', 'along', 'the', 'river', ',', 'observing', 'the', 'tranquil', 'beauty', 'of', 'the', 'setting', 'sun', '.']\n",
      "['Each', 'evening', 'long', 'day', 'work', 'Albert', 'enjoy', 'leisurely', 'walk', 'river', 'observing', 'tranquil', 'beauty', 'setting', 'sun']\n",
      "['He', 'relished', 'these', 'moments', ',', 'where', 'he', 'found', 'inspiration', 'for', 'his', 'work', '.']\n",
      "['He', 'relished', 'moment', 'found', 'inspiration', 'work']\n",
      "['He', 'would', 'often', 'stop', 'and', 'chat', 'with', 'the', 'villagers', ',', 'always', 'keen', 'to', 'lend', 'an', 'ear', 'or', 'share', 'a', 'word', 'of', 'advice', '.']\n",
      "['He', 'stop', 'chat', 'villager', 'keen', 'lend', 'ear', 'share', 'word', 'advice']\n",
      "['His', 'kindhearted', 'nature', 'and', 'wisdom', 'earned', 'him', 'the', 'respect', 'and', 'affection', 'of', 'everyone', 'in', 'the', 'village', '.']\n",
      "['His', 'kindhearted', 'nature', 'wisdom', 'earned', 'respect', 'affection', 'village']\n",
      "['One', 'day', ',', 'Albert', 'received', 'an', 'unusual', 'request', ':', 'a', 'pair', 'of', 'shoes', 'for', 'the', 'village', 'mayor', \"'s\", 'daughter', \"'s\", 'wedding', '.']\n",
      "['One', 'day', 'Albert', 'received', 'unusual', 'request', 'pair', 'shoe', 'village', 'mayor', \"'s\", 'daughter', \"'s\", 'wedding']\n",
      "['The', 'request', 'challenged', 'his', 'skills', ',', 'but', 'Albert', 'saw', 'it', 'as', 'an', 'opportunity', 'to', 'create', 'his', 'masterpiece', '.']\n",
      "['The', 'request', 'challenged', 'skill', 'Albert', 'opportunity', 'create', 'masterpiece']\n",
      "['He', 'invested', 'days', 'of', 'hard', 'work', ',', 'carefully', 'selecting', 'the', 'finest', 'leather', ',', 'intricately', 'designing', 'patterns', ',', 'and', 'ensuring', 'perfect', 'fit', '.']\n",
      "['He', 'invested', 'day', 'hard', 'work', 'carefully', 'selecting', 'finest', 'leather', 'intricately', 'designing', 'pattern', 'ensuring', 'perfect', 'fit']\n",
      "['When', 'he', 'finally', 'presented', 'the', 'shoes', ',', 'they', 'were', 'a', 'sight', 'to', 'behold', '.']\n",
      "['When', 'finally', 'presented', 'shoe', 'sight', 'behold']\n",
      "['The', 'villagers', 'were', 'awestruck', ',', 'and', 'the', 'mayor', \"'s\", 'daughter', 'was', 'overjoyed', '.']\n",
      "['The', 'villager', 'awestruck', 'mayor', \"'s\", 'daughter', 'overjoyed']\n",
      "['The', 'shoes', 'were', 'a', 'testament', 'to', 'Albert', \"'s\", 'skill', ',', 'dedication', ',', 'and', 'his', 'deep', 'understanding', 'of', 'his', 'craft', '.']\n",
      "['The', 'shoe', 'testament', 'Albert', \"'s\", 'skill', 'dedication', 'deep', 'understanding', 'craft']\n",
      "['This', 'tale', 'of', 'Albert', 'the', 'cobbler', 'is', 'a', 'reminder', 'of', 'the', 'beauty', 'in', 'everyday', 'life', ',', 'the', 'joy', 'of', 'doing', 'what', 'we', 'love', ',', 'and', 'the', 'profound', 'impact', 'our', 'work', 'can', 'have', 'on', 'others', '.']\n",
      "['This', 'Albert', 'cobbler', 'reminder', 'beauty', 'everyday', 'life', 'joy', 'love', 'profound', 'impact', 'work']\n",
      "['It', 'highlights', 'the', 'importance', 'of', 'dedication', ',', 'patience', ',', 'and', 'the', 'pursuit', 'of', 'perfection', '.']\n",
      "['It', 'highlight', 'importance', 'dedication', 'patience', 'pursuit', 'perfection']\n",
      "['As', 'we', 'navigate', 'through', 'life', ',', 'let', \"'s\", 'remember', 'to', 'appreciate', 'the', 'little', 'things', ',', 'to', 'be', 'generous', 'and', 'kind', ',', 'and', 'to', 'continually', 'seek', 'inspiration', 'in', 'the', 'world', 'around', 'us', '.']\n",
      "['As', 'navigate', 'life', \"'s\", 'remember', 'appreciate', 'thing', 'generous', 'kind', 'continually', 'seek', 'inspiration', 'world']\n",
      "['Once time quaint village nestled emerald green hill crystal clear river lived kindhearted cobbler named Albert', 'Albert renowned village unmatched skill crafting beautiful shoe wisdom generosity', 'He lived small cozy house built aged oak adorned blooming flower resonated warmth personality', 'Every morning Albert rise sun cherishing peaceful chorus birdsong prepared day', 'His routine included hearty breakfast freshly baked bread golden honey cup steaming tea', 'Fortified head workshop filled rich scent leather rhythmic sound tool', 'There spend day meticulously crafting shoe pair unique piece art reflecting personality future owner', 'Each evening long day work Albert enjoy leisurely walk river observing tranquil beauty setting sun', 'He relished moment found inspiration work', 'He stop chat villager keen lend ear share word advice', 'His kindhearted nature wisdom earned respect affection village', \"One day Albert received unusual request pair shoe village mayor 's daughter 's wedding\", 'The request challenged skill Albert opportunity create masterpiece', 'He invested day hard work carefully selecting finest leather intricately designing pattern ensuring perfect fit', 'When finally presented shoe sight behold', \"The villager awestruck mayor 's daughter overjoyed\", \"The shoe testament Albert 's skill dedication deep understanding craft\", 'This Albert cobbler reminder beauty everyday life joy love profound impact work', 'It highlight importance dedication patience pursuit perfection', \"As navigate life 's remember appreciate thing generous kind continually seek inspiration world\"]\n"
     ]
    }
   ],
   "source": [
    "import string\n",
    "import nltk\n",
    "from nltk import tokenize\n",
    "\n",
    "from nltk.stem import WordNetLemmatizer     #uses the wordnet database, containing grouped words\n",
    "from nltk.corpus import stopwords\n",
    "nltk.download(\"stopwords\")\n",
    "nltk.download(\"punkt\")\n",
    "nltk.download('wordnet')\n",
    "\n",
    "test_paragraph = '''Once upon a time, in a quaint little village nestled between the emerald green hills and the crystal clear river, lived a kindhearted cobbler named Albert. Albert was renowned throughout the village, not just for his unmatched skill in crafting beautiful shoes, but also for his wisdom and generosity. He lived in a small but cozy house, built from aged oak and adorned with blooming flowers, that resonated with the warmth of his personality.\n",
    "\n",
    "Every morning, Albert would rise with the sun, cherishing the peaceful chorus of birdsongs as he prepared for his day. His routine included a hearty breakfast of freshly baked bread, golden honey, and a cup of steaming tea. Fortified, he would then head to his workshop, a haven filled with the rich scent of leather and the rhythmic sounds of his tools. There, he would spend his day meticulously crafting shoes, each pair a unique piece of art, reflecting the personality of its future owner.\n",
    "\n",
    "Each evening, after a long day of work, Albert would enjoy a leisurely walk along the river, observing the tranquil beauty of the setting sun. He relished these moments, where he found inspiration for his work. He would often stop and chat with the villagers, always keen to lend an ear or share a word of advice. His kindhearted nature and wisdom earned him the respect and affection of everyone in the village.\n",
    "\n",
    "One day, Albert received an unusual request: a pair of shoes for the village mayor's daughter's wedding. The request challenged his skills, but Albert saw it as an opportunity to create his masterpiece. He invested days of hard work, carefully selecting the finest leather, intricately designing patterns, and ensuring perfect fit. When he finally presented the shoes, they were a sight to behold. The villagers were awestruck, and the mayor's daughter was overjoyed. The shoes were a testament to Albert's skill, dedication, and his deep understanding of his craft.\n",
    "\n",
    "This tale of Albert the cobbler is a reminder of the beauty in everyday life, the joy of doing what we love, and the profound impact our work can have on others. It highlights the importance of dedication, patience, and the pursuit of perfection. As we navigate through life, let's remember to appreciate the little things, to be generous and kind, and to continually seek inspiration in the world around us.'''\n",
    "\n",
    "def process_paragraph(paragraph):\n",
    "    print(paragraph)\n",
    "    sent_tokens = tokenize.sent_tokenize(paragraph) # needs the download of punkt\n",
    "\n",
    "    print(sent_tokens)\n",
    "    print(len(sent_tokens))\n",
    "    wlm = WordNetLemmatizer() # uses the wordnet dataset rules to get the base form\n",
    "    sentences = []\n",
    "    for sentence in sent_tokens:\n",
    "        words = tokenize.word_tokenize(sentence) #contains \",\"\n",
    "        words_cleaned = [word for word in words  if word not in stopwords.words() and word not in string.punctuation]\n",
    "        print(words)\n",
    "        lemmatized = [wlm.lemmatize(w) for w in words_cleaned]\n",
    "        print(lemmatized)\n",
    "        finished = ' '.join(lemmatized)\n",
    "\n",
    "    return sentences\n",
    "\n",
    "s = process_paragraph(test_paragraph)\n",
    "print(s)"
   ]
  },
  {
   "cell_type": "markdown",
   "source": [
    "2 Logistic Regression\n",
    "\n",
    "2.1\n",
    "\n",
    "OddsRation = Event_happens / Event_doesnt_happen\n",
    "\n",
    "Neither:\n",
    "    OR = (926/2479) / (1553/2479) = 0.596169194\n",
    "\n",
    "Contacted:\n",
    "    OR = (59/1477) / (1418/1477)"
   ],
   "metadata": {
    "collapsed": false
   }
  },
  {
   "cell_type": "markdown",
   "source": [],
   "metadata": {
    "collapsed": false
   }
  },
  {
   "cell_type": "code",
   "execution_count": 25,
   "outputs": [],
   "source": [],
   "metadata": {
    "collapsed": false,
    "ExecuteTime": {
     "end_time": "2023-05-15T22:06:04.686768859Z",
     "start_time": "2023-05-15T22:06:04.640345488Z"
    }
   }
  }
 ],
 "metadata": {
  "kernelspec": {
   "display_name": "Python 3",
   "language": "python",
   "name": "python3"
  },
  "language_info": {
   "codemirror_mode": {
    "name": "ipython",
    "version": 2
   },
   "file_extension": ".py",
   "mimetype": "text/x-python",
   "name": "python",
   "nbconvert_exporter": "python",
   "pygments_lexer": "ipython2",
   "version": "2.7.6"
  }
 },
 "nbformat": 4,
 "nbformat_minor": 0
}
